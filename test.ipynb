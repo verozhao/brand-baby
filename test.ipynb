{
 "cells": [
  {
   "cell_type": "code",
   "execution_count": 16,
   "metadata": {},
   "outputs": [
    {
     "name": "stdout",
     "output_type": "stream",
     "text": [
      "Profile: englishwithlucy\n",
      "Followers: 1623165\n",
      "Following: 260\n",
      "Bio: Click to download my FREE B1-C1 Ebook! It contains ALL the vocab and grammar you need to learn to pass the B1, B2 & C1 levels of English!📕 👇\n",
      "\n"
     ]
    }
   ],
   "source": [
    "import instaloader\n",
    "\n",
    "L = instaloader.Instaloader()\n",
    "\n",
    "username = 'englishwithlucy'\n",
    "\n",
    "profile = instaloader.Profile.from_username(L.context, username)\n",
    "\n",
    "print(f\"Profile: {profile.username}\")\n",
    "print(f\"Followers: {profile.followers}\")\n",
    "print(f\"Following: {profile.followees}\")\n",
    "print(f\"Bio: {profile.biography}\\n\")\n"
   ]
  },
  {
   "cell_type": "code",
   "execution_count": 17,
   "metadata": {},
   "outputs": [
    {
     "name": "stdout",
     "output_type": "stream",
     "text": [
      "englishwithlucy\\2025-02-01_06-00-48_UTC.jpg [From basic to brilliant: your…] englishwithlucy\\2025-02-01_06-00-48_UTC.mp4 json \n",
      "englishwithlucy\\2025-01-30_06-00-54_UTC.jpg [Forget walking! It's time to …] englishwithlucy\\2025-01-30_06-00-54_UTC.mp4 json \n",
      "englishwithlucy\\2025-01-28_06-01-19_UTC.jpg [Boomers, Gen X, Millennials, …] englishwithlucy\\2025-01-28_06-01-19_UTC.mp4 json \n",
      "englishwithlucy\\2025-01-26_06-01-33_UTC.jpg [⏳ Life's busy - we get it! Th…] englishwithlucy\\2025-01-26_06-01-33_UTC.mp4 json \n",
      "englishwithlucy\\2025-01-25_06-01-09_UTC.jpg [It's time to move past the in…] englishwithlucy\\2025-01-25_06-01-09_UTC.mp4 json \n"
     ]
    }
   ],
   "source": [
    "profile = instaloader.Profile.from_username(L.context, username)\n",
    "\n",
    "max_posts = 5\n",
    "post_count = 0\n",
    "for post in profile.get_posts():\n",
    "    if post.typename == 'GraphVideo': \n",
    "        L.download_post(post, target=profile.username)\n",
    "        post_count += 1\n",
    "    if post_count == max_posts:\n",
    "        break\n",
    "    "
   ]
  },
  {
   "cell_type": "code",
   "execution_count": 3,
   "metadata": {},
   "outputs": [
    {
     "name": "stderr",
     "output_type": "stream",
     "text": [
      "c:\\Users\\catra\\anaconda3\\envs\\kinney_wkshp\\Lib\\site-packages\\pydub\\utils.py:170: RuntimeWarning: Couldn't find ffmpeg or avconv - defaulting to ffmpeg, but may not work\n",
      "  warn(\"Couldn't find ffmpeg or avconv - defaulting to ffmpeg, but may not work\", RuntimeWarning)\n"
     ]
    }
   ],
   "source": [
    "import os\n",
    "import speech_recognition as sr\n",
    "from pydub import AudioSegment\n",
    "\n",
    "def prepare_voice_file(path: str) -> str:\n",
    "    \"\"\"\n",
    "    Converts the input audio file to WAV format if necessary and returns the path to the WAV file.\n",
    "    \"\"\"\n",
    "    if os.path.splitext(path)[1] == '.wav':\n",
    "        return path\n",
    "    elif os.path.splitext(path)[1] in ('.mp3', '.m4a', '.ogg', '.flac'):\n",
    "        audio_file = AudioSegment.from_file(\n",
    "            path, format=os.path.splitext(path)[1][1:])\n",
    "        wav_file = os.path.splitext(path)[0] + '.wav'\n",
    "        audio_file.export(wav_file, format='wav')\n",
    "        return wav_file\n",
    "    else:\n",
    "        raise ValueError(\n",
    "            f'Unsupported audio format: {format(os.path.splitext(path)[1])}')\n",
    "\n",
    "\n",
    "def transcribe_audio(audio_data, language) -> str:\n",
    "    \"\"\"\n",
    "    Transcribes audio data to text using Google's speech recognition API.\n",
    "    \"\"\"\n",
    "    r = sr.Recognizer()\n",
    "    text = r.recognize_google(audio_data, language=language)\n",
    "    return text\n",
    "\n",
    "\n",
    "def write_transcription_to_file(text, output_file) -> None:\n",
    "    \"\"\"\n",
    "    Writes the transcribed text to the output file.\n",
    "    \"\"\"\n",
    "    with open(output_file, 'w') as f:\n",
    "        f.write(text)"
   ]
  },
  {
   "cell_type": "code",
   "execution_count": 18,
   "metadata": {},
   "outputs": [
    {
     "name": "stdout",
     "output_type": "stream",
     "text": [
      "{'video_found': True, 'audio_found': True, 'metadata': {'major_brand': 'isom', 'minor_version': '512', 'compatible_brands': 'isomiso2avc1mp41'}, 'inputs': [{'streams': [{'input_number': 0, 'stream_number': 0, 'stream_type': 'video', 'language': None, 'default': True, 'size': [720, 1280], 'bitrate': 1258, 'fps': 25.0, 'codec_name': 'h264', 'profile': '(High)', 'metadata': {'Metadata': '', 'handler_name': 'VideoHandler', 'vendor_id': '[0][0][0][0]', 'encoder': 'AVC Coding'}}, {'input_number': 0, 'stream_number': 1, 'stream_type': 'audio', 'language': None, 'default': True, 'fps': 48000, 'bitrate': 57, 'metadata': {'Metadata': '', 'handler_name': 'SoundHandler', 'vendor_id': '[0][0][0][0]'}}], 'input_number': 0}], 'duration': 65.07, 'bitrate': 1318, 'start': 0.0, 'default_video_input_number': 0, 'default_video_stream_number': 0, 'video_codec_name': 'h264', 'video_profile': '(High)', 'video_size': [720, 1280], 'video_bitrate': 1258, 'video_fps': 25.0, 'default_audio_input_number': 0, 'default_audio_stream_number': 1, 'audio_fps': 48000, 'audio_bitrate': 57, 'video_duration': 65.07, 'video_n_frames': 1626}\n",
      "c:\\Users\\catra\\anaconda3\\envs\\kinney_wkshp\\Lib\\site-packages\\imageio_ffmpeg\\binaries\\ffmpeg-win-x86_64-v7.1.exe -i englishwithlucy/2025-01-28_06-01-19_UTC.mp4 -loglevel error -f image2pipe -vf scale=720:1280 -sws_flags bicubic -pix_fmt rgb24 -vcodec rawvideo -\n",
      "MoviePy - Writing audio in output.wav\n"
     ]
    },
    {
     "name": "stderr",
     "output_type": "stream",
     "text": [
      "                                                                      \r"
     ]
    },
    {
     "name": "stdout",
     "output_type": "stream",
     "text": [
      "MoviePy - Done.\n"
     ]
    }
   ],
   "source": [
    "import speech_recognition as sr\n",
    "from moviepy import *\n",
    "\n",
    "language = 'english'\n",
    "input_path = \"englishwithlucy/2025-01-28_06-01-19_UTC.mp4\"\n",
    "\n",
    "# language = 'ko-KR'\n",
    "# input_path = \"2025-01-03_18-28-23_UTC.mp4\"\n",
    "\n",
    "output_wav = 'output.wav'\n",
    "\n",
    "video_clip = VideoFileClip(input_path)\n",
    "\n",
    "audio_clip = video_clip.audio\n",
    "audio_clip.write_audiofile(output_wav)\n",
    "\n",
    "audio_clip.close()\n",
    "video_clip.close()\n",
    "\n",
    "wav_file = prepare_voice_file(output_wav)\n",
    "with sr.AudioFile(wav_file) as source:\n",
    "    audio_data = sr.Recognizer().record(source)\n",
    "    text = transcribe_audio(audio_data, language)\n",
    "    write_transcription_to_file(text, \"test.txt\")"
   ]
  },
  {
   "cell_type": "code",
   "execution_count": 6,
   "metadata": {},
   "outputs": [
    {
     "data": {
      "text/plain": [
       "['#reels\\\\2025-01-03_18-28-23_UTC.mp4']"
      ]
     },
     "execution_count": 6,
     "metadata": {},
     "output_type": "execute_result"
    }
   ],
   "source": [
    "import glob\n",
    "import os\n",
    "\n",
    "mp4_files = glob.glob(os.path.join(\"#reels/\", '*.mp4'))\n",
    "mp4_files"
   ]
  },
  {
   "cell_type": "code",
   "execution_count": 22,
   "metadata": {},
   "outputs": [
    {
     "name": "stdout",
     "output_type": "stream",
     "text": [
      "{'video_found': True, 'audio_found': True, 'metadata': {'major_brand': 'isom', 'minor_version': '512', 'compatible_brands': 'isomiso2avc1mp41'}, 'inputs': [{'streams': [{'input_number': 0, 'stream_number': 0, 'stream_type': 'video', 'language': None, 'default': True, 'size': [960, 640], 'bitrate': 586, 'fps': 30.0, 'codec_name': 'h264', 'profile': '(High)', 'metadata': {'Metadata': '', 'handler_name': 'VideoHandler', 'vendor_id': '[0][0][0][0]', 'encoder': 'AVC Coding'}}, {'input_number': 0, 'stream_number': 1, 'stream_type': 'audio', 'language': None, 'default': True, 'fps': 44100, 'bitrate': 3, 'metadata': {'Metadata': '', 'handler_name': 'SoundHandler', 'vendor_id': '[0][0][0][0]'}}], 'input_number': 0}], 'duration': 27.44, 'bitrate': 594, 'start': 0.0, 'default_video_input_number': 0, 'default_video_stream_number': 0, 'video_codec_name': 'h264', 'video_profile': '(High)', 'video_size': [960, 640], 'video_bitrate': 586, 'video_fps': 30.0, 'default_audio_input_number': 0, 'default_audio_stream_number': 1, 'audio_fps': 44100, 'audio_bitrate': 3, 'video_duration': 27.44, 'video_n_frames': 823}\n",
      "c:\\Users\\catra\\anaconda3\\envs\\kinney_wkshp\\Lib\\site-packages\\imageio_ffmpeg\\binaries\\ffmpeg-win-x86_64-v7.1.exe -i reels/2024-12-13_20-29-32_UTC.mp4 -loglevel error -f image2pipe -vf scale=960:640 -sws_flags bicubic -pix_fmt rgb24 -vcodec rawvideo -\n",
      "MoviePy - Writing audio in yay.wav\n"
     ]
    },
    {
     "name": "stderr",
     "output_type": "stream",
     "text": [
      "                                                                    \r"
     ]
    },
    {
     "name": "stdout",
     "output_type": "stream",
     "text": [
      "MoviePy - Done.\n"
     ]
    },
    {
     "ename": "UnknownValueError",
     "evalue": "",
     "output_type": "error",
     "traceback": [
      "\u001b[1;31m---------------------------------------------------------------------------\u001b[0m",
      "\u001b[1;31mUnknownValueError\u001b[0m                         Traceback (most recent call last)",
      "Cell \u001b[1;32mIn[22], line 16\u001b[0m\n\u001b[0;32m     14\u001b[0m \u001b[38;5;28;01mwith\u001b[39;00m sr\u001b[38;5;241m.\u001b[39mAudioFile(wav_file) \u001b[38;5;28;01mas\u001b[39;00m source:\n\u001b[0;32m     15\u001b[0m     audio_data \u001b[38;5;241m=\u001b[39m sr\u001b[38;5;241m.\u001b[39mRecognizer()\u001b[38;5;241m.\u001b[39mrecord(source)\n\u001b[1;32m---> 16\u001b[0m     text \u001b[38;5;241m=\u001b[39m \u001b[43mtranscribe_audio\u001b[49m\u001b[43m(\u001b[49m\u001b[43maudio_data\u001b[49m\u001b[43m,\u001b[49m\u001b[43m \u001b[49m\u001b[38;5;124;43m'\u001b[39;49m\u001b[38;5;124;43mko-KR\u001b[39;49m\u001b[38;5;124;43m'\u001b[39;49m\u001b[43m)\u001b[49m\n\u001b[0;32m     17\u001b[0m     write_transcription_to_file(text, \u001b[38;5;124m\"\u001b[39m\u001b[38;5;124mtest.txt\u001b[39m\u001b[38;5;124m\"\u001b[39m)\n",
      "File \u001b[1;32mc:\\Users\\catra\\OneDrive\\Documents\\Repos\\secret_proj\\utils.py:21\u001b[0m, in \u001b[0;36mtranscribe_audio\u001b[1;34m(audio_data, language)\u001b[0m\n\u001b[0;32m     19\u001b[0m \u001b[38;5;28;01mdef\u001b[39;00m \u001b[38;5;21mtranscribe_audio\u001b[39m(audio_data, language) \u001b[38;5;241m-\u001b[39m\u001b[38;5;241m>\u001b[39m \u001b[38;5;28mstr\u001b[39m:\n\u001b[0;32m     20\u001b[0m     r \u001b[38;5;241m=\u001b[39m sr\u001b[38;5;241m.\u001b[39mRecognizer()\n\u001b[1;32m---> 21\u001b[0m     text \u001b[38;5;241m=\u001b[39m \u001b[43mr\u001b[49m\u001b[38;5;241;43m.\u001b[39;49m\u001b[43mrecognize_google\u001b[49m\u001b[43m(\u001b[49m\u001b[43maudio_data\u001b[49m\u001b[43m,\u001b[49m\u001b[43m \u001b[49m\u001b[43mlanguage\u001b[49m\u001b[38;5;241;43m=\u001b[39;49m\u001b[43mlanguage\u001b[49m\u001b[43m)\u001b[49m\n\u001b[0;32m     22\u001b[0m     \u001b[38;5;28;01mreturn\u001b[39;00m text\n",
      "File \u001b[1;32mc:\\Users\\catra\\anaconda3\\envs\\kinney_wkshp\\Lib\\site-packages\\speech_recognition\\recognizers\\google.py:262\u001b[0m, in \u001b[0;36mrecognize_legacy\u001b[1;34m(recognizer, audio_data, key, language, pfilter, show_all, with_confidence, endpoint)\u001b[0m\n\u001b[0;32m    255\u001b[0m response_text \u001b[38;5;241m=\u001b[39m obtain_transcription(\n\u001b[0;32m    256\u001b[0m     request, timeout\u001b[38;5;241m=\u001b[39mrecognizer\u001b[38;5;241m.\u001b[39moperation_timeout\n\u001b[0;32m    257\u001b[0m )\n\u001b[0;32m    259\u001b[0m output_parser \u001b[38;5;241m=\u001b[39m OutputParser(\n\u001b[0;32m    260\u001b[0m     show_all\u001b[38;5;241m=\u001b[39mshow_all, with_confidence\u001b[38;5;241m=\u001b[39mwith_confidence\n\u001b[0;32m    261\u001b[0m )\n\u001b[1;32m--> 262\u001b[0m \u001b[38;5;28;01mreturn\u001b[39;00m \u001b[43moutput_parser\u001b[49m\u001b[38;5;241;43m.\u001b[39;49m\u001b[43mparse\u001b[49m\u001b[43m(\u001b[49m\u001b[43mresponse_text\u001b[49m\u001b[43m)\u001b[49m\n",
      "File \u001b[1;32mc:\\Users\\catra\\anaconda3\\envs\\kinney_wkshp\\Lib\\site-packages\\speech_recognition\\recognizers\\google.py:134\u001b[0m, in \u001b[0;36mOutputParser.parse\u001b[1;34m(self, response_text)\u001b[0m\n\u001b[0;32m    133\u001b[0m \u001b[38;5;28;01mdef\u001b[39;00m \u001b[38;5;21mparse\u001b[39m(\u001b[38;5;28mself\u001b[39m, response_text: \u001b[38;5;28mstr\u001b[39m):\n\u001b[1;32m--> 134\u001b[0m     actual_result \u001b[38;5;241m=\u001b[39m \u001b[38;5;28;43mself\u001b[39;49m\u001b[38;5;241;43m.\u001b[39;49m\u001b[43mconvert_to_result\u001b[49m\u001b[43m(\u001b[49m\u001b[43mresponse_text\u001b[49m\u001b[43m)\u001b[49m\n\u001b[0;32m    135\u001b[0m     \u001b[38;5;28;01mif\u001b[39;00m \u001b[38;5;28mself\u001b[39m\u001b[38;5;241m.\u001b[39mshow_all:\n\u001b[0;32m    136\u001b[0m         \u001b[38;5;28;01mreturn\u001b[39;00m actual_result\n",
      "File \u001b[1;32mc:\\Users\\catra\\anaconda3\\envs\\kinney_wkshp\\Lib\\site-packages\\speech_recognition\\recognizers\\google.py:183\u001b[0m, in \u001b[0;36mOutputParser.convert_to_result\u001b[1;34m(response_text)\u001b[0m\n\u001b[0;32m    181\u001b[0m             \u001b[38;5;28;01mraise\u001b[39;00m UnknownValueError()\n\u001b[0;32m    182\u001b[0m         \u001b[38;5;28;01mreturn\u001b[39;00m result[\u001b[38;5;241m0\u001b[39m]\n\u001b[1;32m--> 183\u001b[0m \u001b[38;5;28;01mraise\u001b[39;00m UnknownValueError()\n",
      "\u001b[1;31mUnknownValueError\u001b[0m: "
     ]
    }
   ],
   "source": [
    "from moviepy import *\n",
    "from utils import *\n",
    "\n",
    "output_wav = 'yay.wav'\n",
    "video_clip = VideoFileClip(\"reels/2024-12-13_20-29-32_UTC.mp4\")\n",
    "\n",
    "audio_clip = video_clip.audio\n",
    "audio_clip.write_audiofile(output_wav)\n",
    "\n",
    "audio_clip.close()\n",
    "video_clip.close()\n",
    "\n",
    "wav_file = prepare_voice_file(output_wav)\n",
    "with sr.AudioFile(wav_file) as source:\n",
    "    audio_data = sr.Recognizer().record(source)\n",
    "    text = transcribe_audio(audio_data, 'ko-KR')\n",
    "    write_transcription_to_file(text, \"test.txt\")"
   ]
  },
  {
   "cell_type": "code",
   "execution_count": null,
   "metadata": {},
   "outputs": [],
   "source": [
    "# TODO: \n",
    "# come up with an idea for new video that uses the user's personal brand and the target creator's previous videos\n",
    "\n",
    "# STEP ONE\n",
    "# summarize most popular videos from creator, user selects video\n",
    "# get video input as well for summary ^\n",
    "\n",
    "# STEP TWO\n",
    "# compare reels from the user/creator and target creator\n",
    "\n",
    "# STEP THREE\n",
    "# generate script idea\n",
    "\n",
    "# STEP FOUR\n",
    "# add in comment into script!"
   ]
  },
  {
   "cell_type": "code",
   "execution_count": null,
   "metadata": {},
   "outputs": [],
   "source": [
    "# TODO: incorporate comment (by how many likes?)\n",
    "# find most popular comment\n",
    "# incorporate it into the script"
   ]
  },
  {
   "cell_type": "code",
   "execution_count": null,
   "metadata": {},
   "outputs": [],
   "source": [
    "# TODO:\n",
    "# video calculator\n",
    "\n",
    "# use actual videos \n",
    "# use a username\n",
    "# use a genre\n",
    "# use a commenter/comment\n",
    "\n",
    "# sample video script, blocking"
   ]
  },
  {
   "cell_type": "code",
   "execution_count": null,
   "metadata": {},
   "outputs": [
    {
     "name": "stdout",
     "output_type": "stream",
     "text": [
      "#reels\\2024-12-13_20-29-32_UTC.jpg exists [This timelapse, taken through…] unchanged #reels\\2024-12-13_20-29-32_UTC.mp4 exists json \n",
      "Reel downloaded successfully: DDiC_aUJ84H\n"
     ]
    }
   ],
   "source": [
    "import instaloader\n",
    "\n",
    "L = instaloader.Instaloader()\n",
    "\n",
    "reel_url = \"https://www.instagram.com/reel/DDiC_aUJ84H/\"\n",
    "\n",
    "# Extract the shortcode from the URL\n",
    "shortcode = reel_url.split(\"/\")[-2]\n",
    "\n",
    "# Download the reel\n",
    "try:\n",
    "    post = instaloader.Post.from_shortcode(L.context, shortcode)\n",
    "    L.download_post(post, target=\"#reels\")\n",
    "    print(f\"Reel downloaded successfully: {shortcode}\")\n",
    "except Exception as e:\n",
    "    print(f\"Error downloading reel: {e}\")\n"
   ]
  },
  {
   "cell_type": "markdown",
   "metadata": {},
   "source": [
    "# video stuff"
   ]
  },
  {
   "cell_type": "code",
   "execution_count": null,
   "metadata": {},
   "outputs": [
    {
     "name": "stderr",
     "output_type": "stream",
     "text": [
      "c:\\Users\\catra\\anaconda3\\envs\\kinney_wkshp\\Lib\\site-packages\\huggingface_hub\\file_download.py:140: UserWarning: `huggingface_hub` cache-system uses symlinks by default to efficiently store duplicated files but your machine does not support them in C:\\Users\\catra\\.cache\\huggingface\\hub\\models--THUDM--CogVideoX1.5-5B-I2V. Caching files will still work but in a degraded version that might require more space on your disk. This warning can be disabled by setting the `HF_HUB_DISABLE_SYMLINKS_WARNING` environment variable. For more details, see https://huggingface.co/docs/huggingface_hub/how-to-cache#limitations.\n",
      "To support symlinks on Windows, you either need to activate Developer Mode or to run Python as an administrator. In order to activate developer mode, see this article: https://docs.microsoft.com/en-us/windows/apps/get-started/enable-your-device-for-development\n",
      "  warnings.warn(message)\n",
      "Fetching 19 files:  11%|█         | 2/19 [00:00<00:01,  9.70it/s]"
     ]
    }
   ],
   "source": [
    "import torch\n",
    "from diffusers import CogVideoXImageToVideoPipeline\n",
    "from diffusers.utils import export_to_video, load_image\n",
    "\n",
    "prompt = \"Man begins to dance happily.\"\n",
    "image = load_image(image=\"https://media.istockphoto.com/id/1417009411/photo/a-mature-african-man-looking-ecstatic-while-while-celebrating-and-dancing-by-making-a-fist.jpg?s=612x612&w=0&k=20&c=lDYtbozG2FcTucA-Ng1aD0sQ4vBfFJNU6yIC3iz5zyY=\")\n",
    "pipe = CogVideoXImageToVideoPipeline.from_pretrained(\n",
    "    \"THUDM/CogVideoX1.5-5B-I2V\",\n",
    "    torch_dtype=torch.bfloat16\n",
    ")\n",
    " \n",
    "pipe.vae.enable_tiling()\n",
    "pipe.vae.enable_slicing()\n",
    "\n",
    "video = pipe(\n",
    "    prompt=prompt,\n",
    "    image=image,\n",
    "    num_videos_per_prompt=1,\n",
    "    num_inference_steps=1,\n",
    "    num_frames=10,\n",
    "    guidance_scale=6,\n",
    "    generator=torch.Generator(device=\"cuda\").manual_seed(42),\n",
    ").frames[0]\n",
    "\n",
    "export_to_video(video, \"output.mp4\", fps=8)"
   ]
  },
  {
   "cell_type": "code",
   "execution_count": null,
   "metadata": {},
   "outputs": [],
   "source": [
    "import torch\n",
    "from diffusers import StableVideoDiffusionPipeline\n",
    "from diffusers.utils import load_image, export_to_video\n",
    "\n",
    "pipeline = StableVideoDiffusionPipeline.from_pretrained(\n",
    "    \"stabilityai/stable-video-diffusion-img2vid-xt\", \n",
    "    torch_dtype=torch.float16, \n",
    "    variant=\"fp16\"\n",
    ")\n",
    "pipeline.enable_model_cpu_offload()\n",
    "\n",
    "# Load and prepare your image here\n",
    "# Generate video frames\n",
    "frames = pipeline(image, decode_chunk_size=8, generator=generator).frames\n",
    "\n",
    "# Export to video\n",
    "export_to_video(frames, \"output.mp4\", fps=7)\n"
   ]
  },
  {
   "cell_type": "markdown",
   "metadata": {},
   "source": [
    "# video"
   ]
  },
  {
   "cell_type": "code",
   "execution_count": 1,
   "metadata": {},
   "outputs": [
    {
     "name": "stdout",
     "output_type": "stream",
     "text": [
      "10.36 - 11.76: Let me introduce you to some\n",
      "11.76 - 15.879999999999999: new thangs new thangs new thangs\n",
      "16.1 - 18.94: bass kick swingin' like I’m Bruce Lee\n",
      "18.94 - 21.76: Bruce Lee Bruce Lee\n",
      "21.76 - 25.400000000000002: shimmy shimmy shimmy I’m on fire on fire\n",
      "25.4 - 27.64: when I’m on this stage\n",
      "27.64 - 30.22: I throw a straight punch right left Bruce Lee\n",
      "30.22 - 32.699999999999996: I’m flying around all day long Bruce Lee\n",
      "32.7 - 34.34: yeah yeah\n",
      "35.12 - 37.599999999999994: comin' up here now\n",
      "37.6 - 40.5: baby you don’t understand this feeling logically\n",
      "40.5 - 43.02: fighting for all day\n",
      "43.02 - 46.080000000000005: Don’t think and walk along the path\n",
      "that leads to your story\n",
      "46.08 - 51.32: Before the dark yesterday swallows today\n",
      "51.32 - 54.78: My voice should spread more I can just shout out\n",
      "54.78 - 57.1: To me no more trauma\n",
      "57.1 - 58.4: Baby we go wild\n",
      "59.8 - 61.379999999999995: one two seven squad\n",
      "62.38 - 64.94: I throw a straight punch pow\n",
      "65.32 - 67.8: Punch right and left pow\n",
      "67.8 - 69.32: I throw a straight punch right and left\n",
      "69.32 - 73.36: new thangs new thangs new thangs\n",
      "73.56 - 76.14: Wherever we go it’s a party\n",
      "76.14 - 79.3: raise your glass and toast like my birthday\n",
      "79.3 - 81.88: Everyone kicks up high\n",
      "81.88 - 82.97999999999999: where ma roof at\n",
      "82.98 - 85.08: roof in the universe\n",
      "(na na na na na na)\n",
      "85.08 - 87.78: I throw a straight punch right and left Bruce Lee\n",
      "87.78 - 90.02: I’m flying around all day long Bruce Lee\n",
      "90.02 - 92.33999999999999: (na na na na na na)\n",
      "93.34 - 95.88000000000001: (Ya!) got that drip Guts overflow\n",
      "95.88 - 96.94: I lost fear\n",
      "96.94 - 100.08: Wherever make it poppin' keep it movin' like ‘Jeet Kune’\n",
      "100.08 - 103.02: When you block me you’re gonna be\n",
      "‘Samuel Jackson’ wassup?\n",
      "103.02 - 105.47999999999999: You’re so twisted baby you just gotta watch\n",
      "105.48 - 107.0: 'Enter The Dragon' like a movie\n",
      "107.0 - 108.46: Even my steps Martial Arts\n",
      "108.46 - 109.86: looking that everybody looking at me\n",
      "109.86 - 111.28: Cams Action Movie shh\n",
      "111.28 - 112.76: Knock down one by one\n",
      "112.76 - 115.28: (Shh) blows away there’s no mercy ruthless\n",
      "115.28 - 116.68: droppin' the bomb on ma enemies\n",
      "116.68 - 117.92: and I’m gonna kick it like Bruce Lee\n",
      "117.92 - 123.02: After repeating the same scenes of so many days\n",
      "123.02 - 126.72: I can just knock yesterday’s me down and shout out\n",
      "126.72 - 128.84: To me no more trauma\n",
      "128.84 - 131.74: Baby we go wild\n",
      "131.74 - 134.26000000000002: one two seven squad\n",
      "134.26 - 137.14: we ain’t never gonna stop\n",
      "137.14 - 139.64: Even if we can’t see the end, just go\n",
      "139.64 - 141.14: I throw a straight punch right left\n",
      "141.14 - 145.48: new thangs new thangs new thangs\n",
      "(na na na na na na)\n",
      "145.48 - 148.29999999999998: I throw a straight punch right left Bruce Lee\n",
      "148.3 - 151.20000000000002: I’m flying around all day long Bruce Lee\n",
      "153.36 - 157.54000000000002: I make my world yeah\n",
      "157.54 - 160.95999999999998: Deep inside the very dramatic scene\n",
      "160.96 - 164.3: that was unimaginable\n",
      "164.3 - 167.26000000000002: The new worlds that will spread in front of me\n",
      "167.26 - 170.17999999999998: will come into me as if I can grab them\n",
      "170.18 - 176.02: After the darkness I’m born again\n",
      "200.0 - 201.48: I throw a straight punch right and left\n",
      "201.48 - 205.84: new thangs new thangs new thangs\n",
      "205.84 - 208.32: Wherever we go it’s a party\n",
      "208.32 - 211.56: raise your glass like my birthday\n",
      "(eh eh eh eh eh eh)\n",
      "211.56 - 213.28: shimmy shimmy shimmy catching fire\n",
      "213.28 - 215.06: shimmy shimmy shimmy hook\n",
      "215.86 - 217.96: High where ma roof at\n",
      "217.96 - 220.26000000000002: roof in the universe\n",
      "(na na na na na na)\n",
      "220.26 - 222.98: I throw a straight punch right left Bruce Lee\n",
      "222.98 - 225.85999999999999: I’m flying around all day long Bruce Lee\n",
      "(na na na na na na)\n",
      "225.86 - 228.82000000000002: I’m flying around all day long Bruce Lee\n"
     ]
    }
   ],
   "source": [
    "from youtube_transcript_api import YouTubeTranscriptApi\n",
    "\n",
    "video_id = 'dQw4w9WgXcQ'\n",
    "\n",
    "try:\n",
    "    transcript = YouTubeTranscriptApi.get_transcript('2OvyA2__Eas')\n",
    "\n",
    "    for entry in transcript:\n",
    "        print(f\"{entry['start']} - {entry['start'] + entry['duration']}: {entry['text']}\")\n",
    "\n",
    "except Exception as e:\n",
    "    print(f\"Error: {e}\")\n"
   ]
  },
  {
   "cell_type": "code",
   "execution_count": 10,
   "metadata": {},
   "outputs": [],
   "source": [
    "import requests\n",
    "from bs4 import BeautifulSoup\n",
    "import random\n",
    "\n",
    "def get_youtube_comments(video_url, max_comments=100):\n",
    "    headers = {'User-Agent': 'Mozilla/5.0 (Windows NT 10.0; Win64; x64) AppleWebKit/537.36 (KHTML, like Gecko) Chrome/91.0.4472.124 Safari/537.36'}\n",
    "    response = requests.get(video_url, headers=headers)\n",
    "    \n",
    "    if response.status_code != 200:\n",
    "        return f\"Error fetching page: {response.status_code}\"\n",
    "\n",
    "    soup = BeautifulSoup(response.text, 'html.parser')\n",
    "\n",
    "    comments = []\n",
    "    for comment in soup.find_all('span', {'class': 'yt-core-attributed-string yt-core-attributed-string--white-space-pre-wrap'}):\n",
    "        comments.append(comment.get_text())\n",
    "        if len(comments) == 100: \n",
    "            break\n",
    "\n",
    "    return comments\n",
    "    "
   ]
  },
  {
   "cell_type": "code",
   "execution_count": 14,
   "metadata": {},
   "outputs": [],
   "source": [
    "video_url = \"https://www.youtube.com/watch?v=2OvyA2__Eas\"\n",
    "\n",
    "headers = {'User-Agent': 'Mozilla/5.0 (Windows NT 10.0; Win64; x64) AppleWebKit/537.36 (KHTML, like Gecko) Chrome/91.0.4472.124 Safari/537.36'}\n",
    "response = requests.get(video_url, headers=headers)\n",
    "\n",
    "soup = BeautifulSoup(response.text, 'html.parser') \n",
    "\n",
    "comments = []\n",
    "for comment in soup.find_all('span', {'class': 'yt-core-attributed-string yt-core-attributed-string--white-space-pre-wrap'}):\n",
    "    comments.append(comment.get_text())\n",
    "    if len(comments) == 100: \n",
    "        break"
   ]
  },
  {
   "cell_type": "code",
   "execution_count": 20,
   "metadata": {},
   "outputs": [
    {
     "name": "stdout",
     "output_type": "stream",
     "text": [
      "Collecting yt-dlp\n",
      "  Downloading yt_dlp-2025.1.26-py3-none-any.whl.metadata (172 kB)\n",
      "     ---------------------------------------- 0.0/172.0 kB ? eta -:--:--\n",
      "     ---- -------------------------------- 20.5/172.0 kB 640.0 kB/s eta 0:00:01\n",
      "     ------------- ----------------------- 61.4/172.0 kB 812.7 kB/s eta 0:00:01\n",
      "     -------------------------------------- 172.0/172.0 kB 1.5 MB/s eta 0:00:00\n",
      "Downloading yt_dlp-2025.1.26-py3-none-any.whl (3.2 MB)\n",
      "   ---------------------------------------- 0.0/3.2 MB ? eta -:--:--\n",
      "   ----- ---------------------------------- 0.5/3.2 MB 14.2 MB/s eta 0:00:01\n",
      "   ------------ --------------------------- 1.0/3.2 MB 12.7 MB/s eta 0:00:01\n",
      "   ---------------- ----------------------- 1.3/3.2 MB 10.2 MB/s eta 0:00:01\n",
      "   ------------------- -------------------- 1.6/3.2 MB 9.2 MB/s eta 0:00:01\n",
      "   -------------------------- ------------- 2.1/3.2 MB 10.2 MB/s eta 0:00:01\n",
      "   ---------------------------- ----------- 2.3/3.2 MB 8.5 MB/s eta 0:00:01\n",
      "   -------------------------------- ------- 2.6/3.2 MB 9.2 MB/s eta 0:00:01\n",
      "   ---------------------------------------  3.2/3.2 MB 9.2 MB/s eta 0:00:01\n",
      "   ---------------------------------------- 3.2/3.2 MB 8.8 MB/s eta 0:00:00\n",
      "Installing collected packages: yt-dlp\n",
      "Successfully installed yt-dlp-2025.1.26\n"
     ]
    }
   ],
   "source": [
    "!pip install yt-dlp"
   ]
  },
  {
   "cell_type": "code",
   "execution_count": 27,
   "metadata": {},
   "outputs": [
    {
     "name": "stdout",
     "output_type": "stream",
     "text": [
      "[youtube] Extracting URL: https://www.youtube.com/watch?v=5B5Hrx8mR0U\n",
      "[youtube] 5B5Hrx8mR0U: Downloading webpage\n",
      "[youtube] 5B5Hrx8mR0U: Downloading tv client config\n",
      "[youtube] 5B5Hrx8mR0U: Downloading player f3d47b5a\n",
      "[youtube] 5B5Hrx8mR0U: Downloading tv player API JSON\n",
      "[youtube] 5B5Hrx8mR0U: Downloading ios player API JSON\n",
      "[youtube] 5B5Hrx8mR0U: Downloading m3u8 information\n",
      "[youtube] Downloading comment section API JSON\n",
      "[youtube] Downloading ~97 comments\n",
      "[youtube] Sorting comments by newest first\n",
      "[youtube] Downloading comment API JSON page 1 (0/~97)\n",
      "[youtube]     Downloading comment API JSON reply thread 1 (11/~97)\n",
      "[youtube]     Downloading comment API JSON reply thread 2 (13/~97)\n",
      "[youtube]     Downloading comment API JSON reply thread 3 (15/~97)\n",
      "[youtube]     Downloading comment API JSON reply thread 4 (18/~97)\n",
      "[youtube]     Downloading comment API JSON reply thread 5 (20/~97)\n",
      "[youtube]     Downloading comment API JSON reply thread 6 (22/~97)\n",
      "[youtube]     Downloading comment API JSON reply thread 7 (24/~97)\n",
      "[youtube]     Downloading comment API JSON reply thread 8 (26/~97)\n",
      "[youtube]     Downloading comment API JSON reply thread 9 (28/~97)\n",
      "[youtube] Downloading comment API JSON page 2 (29/~97)\n",
      "[youtube]     Downloading comment API JSON reply thread 1 (30/~97)\n",
      "[youtube]     Downloading comment API JSON reply thread 2 (32/~97)\n",
      "[youtube]     Downloading comment API JSON reply thread 3 (34/~97)\n",
      "[youtube]     Downloading comment API JSON reply thread 4 (36/~97)\n",
      "[youtube]     Downloading comment API JSON reply thread 5 (38/~97)\n",
      "[youtube]     Downloading comment API JSON reply thread 6 (41/~97)\n",
      "[youtube]     Downloading comment API JSON reply thread 7 (43/~97)\n",
      "[youtube]     Downloading comment API JSON reply thread 8 (45/~97)\n",
      "[youtube]     Downloading comment API JSON reply thread 9 (47/~97)\n",
      "[youtube]     Downloading comment API JSON reply thread 10 (49/~97)\n",
      "[youtube]     Downloading comment API JSON reply thread 11 (51/~97)\n",
      "[youtube]     Downloading comment API JSON reply thread 12 (53/~97)\n",
      "[youtube]     Downloading comment API JSON reply thread 13 (55/~97)\n",
      "[youtube]     Downloading comment API JSON reply thread 14 (57/~97)\n",
      "[youtube]     Downloading comment API JSON reply thread 15 (59/~97)\n",
      "[youtube]     Downloading comment API JSON reply thread 16 (61/~97)\n",
      "[youtube]     Downloading comment API JSON reply thread 17 (63/~97)\n",
      "[youtube]     Downloading comment API JSON reply thread 18 (65/~97)\n",
      "[youtube]     Downloading comment API JSON reply thread 19 (67/~97)\n",
      "[youtube] Downloading comment API JSON page 3 (68/~97)\n",
      "[youtube]     Downloading comment API JSON reply thread 1 (69/~97)\n",
      "[youtube]     Downloading comment API JSON reply thread 2 (71/~97)\n",
      "[youtube]     Downloading comment API JSON reply thread 3 (73/~97)\n",
      "[youtube]     Downloading comment API JSON reply thread 4 (75/~97)\n",
      "[youtube]     Downloading comment API JSON reply thread 5 (77/~97)\n",
      "[youtube]     Downloading comment API JSON reply thread 6 (79/~97)\n",
      "[youtube]     Downloading comment API JSON reply thread 7 (82/~97)\n",
      "[youtube]     Downloading comment API JSON reply thread 8 (84/~97)\n",
      "[youtube]        Downloading comment replies API JSON page 1 (94/~97)\n",
      "[youtube] Extracted 97 comments\n"
     ]
    },
    {
     "name": "stderr",
     "output_type": "stream",
     "text": [
      "WARNING: ffmpeg not found. The downloaded format may not be the best available. Installing ffmpeg is strongly recommended: https://github.com/yt-dlp/yt-dlp#dependencies\n"
     ]
    }
   ],
   "source": [
    "from yt_dlp import YoutubeDL\n",
    "\n",
    "def extract_comments(video_url):\n",
    "    opts = {\"getcomments\": True}\n",
    "    with YoutubeDL(opts) as yt:\n",
    "        info = yt.extract_info(video_url, download=False)\n",
    "        comments = info[\"comments\"]\n",
    "        return comments\n",
    "\n",
    "video_url = \"https://www.youtube.com/watch?v=5B5Hrx8mR0U\"\n",
    "comments = extract_comments(video_url)"
   ]
  }
 ],
 "metadata": {
  "kernelspec": {
   "display_name": "kinney_wkshp",
   "language": "python",
   "name": "python3"
  },
  "language_info": {
   "codemirror_mode": {
    "name": "ipython",
    "version": 3
   },
   "file_extension": ".py",
   "mimetype": "text/x-python",
   "name": "python",
   "nbconvert_exporter": "python",
   "pygments_lexer": "ipython3",
   "version": "3.12.4"
  }
 },
 "nbformat": 4,
 "nbformat_minor": 2
}
